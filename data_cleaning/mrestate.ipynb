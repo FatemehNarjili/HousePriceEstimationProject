{
 "cells": [
  {
   "cell_type": "code",
   "execution_count": 1,
   "id": "1d54c23a-4d86-40ef-9ae4-6666d61b9c9c",
   "metadata": {},
   "outputs": [],
   "source": [
    "import numpy as np\n",
    "import pandas as pd\n",
    "import matplotlib.pyplot as plt\n",
    "import seaborn as sns\n",
    "# from sklearn.model_selection import train_test_split\n",
    "# from sklearn.linear_model import LinearRegression\n",
    "# from sklearn.preprocessing import StandardScaler\n",
    "# from sklearn.metrics import mean_squared_error, r2_score,mean_absolute_error"
   ]
  },
  {
   "cell_type": "code",
   "execution_count": 2,
   "id": "2033cadf-1fe8-4743-a26e-c49563090e2f",
   "metadata": {},
   "outputs": [],
   "source": [
    "mrestate=pd.read_csv('../data/mrestate.csv')"
   ]
  },
  {
   "cell_type": "code",
   "execution_count": 3,
   "id": "9fe17ed2-89ad-4a74-940e-76834cb3d460",
   "metadata": {},
   "outputs": [
    {
     "data": {
      "text/html": [
       "<div>\n",
       "<style scoped>\n",
       "    .dataframe tbody tr th:only-of-type {\n",
       "        vertical-align: middle;\n",
       "    }\n",
       "\n",
       "    .dataframe tbody tr th {\n",
       "        vertical-align: top;\n",
       "    }\n",
       "\n",
       "    .dataframe thead th {\n",
       "        text-align: right;\n",
       "    }\n",
       "</style>\n",
       "<table border=\"1\" class=\"dataframe\">\n",
       "  <thead>\n",
       "    <tr style=\"text-align: right;\">\n",
       "      <th></th>\n",
       "      <th>district_name</th>\n",
       "      <th>real_estate_type</th>\n",
       "      <th>real_estate_area</th>\n",
       "      <th>total_rooms</th>\n",
       "      <th>number_of_parking</th>\n",
       "      <th>real_estate_age</th>\n",
       "      <th>price</th>\n",
       "      <th>facilities</th>\n",
       "      <th>floor</th>\n",
       "    </tr>\n",
       "  </thead>\n",
       "  <tbody>\n",
       "    <tr>\n",
       "      <th>0</th>\n",
       "      <td>جردن</td>\n",
       "      <td>کلنگی</td>\n",
       "      <td>358.0</td>\n",
       "      <td>NaN</td>\n",
       "      <td>0</td>\n",
       "      <td>NaN</td>\n",
       "      <td>197000000000</td>\n",
       "      <td>NaN</td>\n",
       "      <td>NaN</td>\n",
       "    </tr>\n",
       "    <tr>\n",
       "      <th>1</th>\n",
       "      <td>جنت آباد مرکزی</td>\n",
       "      <td>کلنگی</td>\n",
       "      <td>260.0</td>\n",
       "      <td>6.0</td>\n",
       "      <td>0</td>\n",
       "      <td>32.0</td>\n",
       "      <td>62000000000</td>\n",
       "      <td>NaN</td>\n",
       "      <td>NaN</td>\n",
       "    </tr>\n",
       "    <tr>\n",
       "      <th>2</th>\n",
       "      <td>محمودیه</td>\n",
       "      <td>کلنگی</td>\n",
       "      <td>650.0</td>\n",
       "      <td>NaN</td>\n",
       "      <td>0</td>\n",
       "      <td>NaN</td>\n",
       "      <td>325000000000</td>\n",
       "      <td>NaN</td>\n",
       "      <td>NaN</td>\n",
       "    </tr>\n",
       "    <tr>\n",
       "      <th>3</th>\n",
       "      <td>قیطریه</td>\n",
       "      <td>کلنگی</td>\n",
       "      <td>580.0</td>\n",
       "      <td>6.0</td>\n",
       "      <td>3</td>\n",
       "      <td>32.0</td>\n",
       "      <td>174000000000</td>\n",
       "      <td>NaN</td>\n",
       "      <td>6.0</td>\n",
       "    </tr>\n",
       "    <tr>\n",
       "      <th>4</th>\n",
       "      <td>ولنجک</td>\n",
       "      <td>کلنگی</td>\n",
       "      <td>200.0</td>\n",
       "      <td>NaN</td>\n",
       "      <td>0</td>\n",
       "      <td>30.0</td>\n",
       "      <td>59500000000</td>\n",
       "      <td>NaN</td>\n",
       "      <td>NaN</td>\n",
       "    </tr>\n",
       "    <tr>\n",
       "      <th>...</th>\n",
       "      <td>...</td>\n",
       "      <td>...</td>\n",
       "      <td>...</td>\n",
       "      <td>...</td>\n",
       "      <td>...</td>\n",
       "      <td>...</td>\n",
       "      <td>...</td>\n",
       "      <td>...</td>\n",
       "      <td>...</td>\n",
       "    </tr>\n",
       "    <tr>\n",
       "      <th>50499</th>\n",
       "      <td>جنت آباد شمالی</td>\n",
       "      <td>آپارتمان</td>\n",
       "      <td>82.0</td>\n",
       "      <td>2.0</td>\n",
       "      <td>1</td>\n",
       "      <td>10.0</td>\n",
       "      <td>7400000000</td>\n",
       "      <td>آسانسور,انباری,بالکن</td>\n",
       "      <td>2.0</td>\n",
       "    </tr>\n",
       "    <tr>\n",
       "      <th>50500</th>\n",
       "      <td>شهرک نفت</td>\n",
       "      <td>آپارتمان</td>\n",
       "      <td>83.0</td>\n",
       "      <td>2.0</td>\n",
       "      <td>1</td>\n",
       "      <td>19.0</td>\n",
       "      <td>6800000000</td>\n",
       "      <td>انباری,بالکن</td>\n",
       "      <td>2.0</td>\n",
       "    </tr>\n",
       "    <tr>\n",
       "      <th>50501</th>\n",
       "      <td>پونک</td>\n",
       "      <td>آپارتمان</td>\n",
       "      <td>90.0</td>\n",
       "      <td>2.0</td>\n",
       "      <td>1</td>\n",
       "      <td>10.0</td>\n",
       "      <td>9200000000</td>\n",
       "      <td>آسانسور,انباری,بالکن</td>\n",
       "      <td>2.0</td>\n",
       "    </tr>\n",
       "    <tr>\n",
       "      <th>50502</th>\n",
       "      <td>بلوار فردوس</td>\n",
       "      <td>آپارتمان</td>\n",
       "      <td>100.0</td>\n",
       "      <td>2.0</td>\n",
       "      <td>1</td>\n",
       "      <td>20.0</td>\n",
       "      <td>8950000000</td>\n",
       "      <td>آسانسور,انباری,بالکن</td>\n",
       "      <td>2.0</td>\n",
       "    </tr>\n",
       "    <tr>\n",
       "      <th>50503</th>\n",
       "      <td>دزاشیب</td>\n",
       "      <td>آپارتمان</td>\n",
       "      <td>108.0</td>\n",
       "      <td>2.0</td>\n",
       "      <td>1</td>\n",
       "      <td>22.0</td>\n",
       "      <td>13500000000</td>\n",
       "      <td>آسانسور,انباری,بالکن</td>\n",
       "      <td>2.0</td>\n",
       "    </tr>\n",
       "  </tbody>\n",
       "</table>\n",
       "<p>50504 rows × 9 columns</p>\n",
       "</div>"
      ],
      "text/plain": [
       "        district_name real_estate_type  real_estate_area  total_rooms  \\\n",
       "0                جردن            کلنگی             358.0          NaN   \n",
       "1      جنت آباد مرکزی            کلنگی             260.0          6.0   \n",
       "2             محمودیه            کلنگی             650.0          NaN   \n",
       "3              قیطریه            کلنگی             580.0          6.0   \n",
       "4               ولنجک            کلنگی             200.0          NaN   \n",
       "...               ...              ...               ...          ...   \n",
       "50499  جنت آباد شمالی         آپارتمان              82.0          2.0   \n",
       "50500        شهرک نفت         آپارتمان              83.0          2.0   \n",
       "50501            پونک         آپارتمان              90.0          2.0   \n",
       "50502     بلوار فردوس         آپارتمان             100.0          2.0   \n",
       "50503          دزاشیب         آپارتمان             108.0          2.0   \n",
       "\n",
       "       number_of_parking  real_estate_age         price            facilities  \\\n",
       "0                      0              NaN  197000000000                   NaN   \n",
       "1                      0             32.0   62000000000                   NaN   \n",
       "2                      0              NaN  325000000000                   NaN   \n",
       "3                      3             32.0  174000000000                   NaN   \n",
       "4                      0             30.0   59500000000                   NaN   \n",
       "...                  ...              ...           ...                   ...   \n",
       "50499                  1             10.0    7400000000  آسانسور,انباری,بالکن   \n",
       "50500                  1             19.0    6800000000          انباری,بالکن   \n",
       "50501                  1             10.0    9200000000  آسانسور,انباری,بالکن   \n",
       "50502                  1             20.0    8950000000  آسانسور,انباری,بالکن   \n",
       "50503                  1             22.0   13500000000  آسانسور,انباری,بالکن   \n",
       "\n",
       "       floor  \n",
       "0        NaN  \n",
       "1        NaN  \n",
       "2        NaN  \n",
       "3        6.0  \n",
       "4        NaN  \n",
       "...      ...  \n",
       "50499    2.0  \n",
       "50500    2.0  \n",
       "50501    2.0  \n",
       "50502    2.0  \n",
       "50503    2.0  \n",
       "\n",
       "[50504 rows x 9 columns]"
      ]
     },
     "execution_count": 3,
     "metadata": {},
     "output_type": "execute_result"
    }
   ],
   "source": [
    "mrestate"
   ]
  },
  {
   "cell_type": "code",
   "execution_count": 4,
   "id": "7b58654c-3458-40cb-a664-c4bf5457bd25",
   "metadata": {},
   "outputs": [
    {
     "data": {
      "text/html": [
       "<div>\n",
       "<style scoped>\n",
       "    .dataframe tbody tr th:only-of-type {\n",
       "        vertical-align: middle;\n",
       "    }\n",
       "\n",
       "    .dataframe tbody tr th {\n",
       "        vertical-align: top;\n",
       "    }\n",
       "\n",
       "    .dataframe thead th {\n",
       "        text-align: right;\n",
       "    }\n",
       "</style>\n",
       "<table border=\"1\" class=\"dataframe\">\n",
       "  <thead>\n",
       "    <tr style=\"text-align: right;\">\n",
       "      <th></th>\n",
       "      <th>real_estate_area</th>\n",
       "      <th>total_rooms</th>\n",
       "      <th>number_of_parking</th>\n",
       "      <th>real_estate_age</th>\n",
       "      <th>floor</th>\n",
       "    </tr>\n",
       "  </thead>\n",
       "  <tbody>\n",
       "    <tr>\n",
       "      <th>count</th>\n",
       "      <td>5.014900e+04</td>\n",
       "      <td>45637.000000</td>\n",
       "      <td>50504.000000</td>\n",
       "      <td>46958.000000</td>\n",
       "      <td>37810.000000</td>\n",
       "    </tr>\n",
       "    <tr>\n",
       "      <th>mean</th>\n",
       "      <td>3.508912e+04</td>\n",
       "      <td>2.561189</td>\n",
       "      <td>0.948578</td>\n",
       "      <td>95.939989</td>\n",
       "      <td>2.146258</td>\n",
       "    </tr>\n",
       "    <tr>\n",
       "      <th>std</th>\n",
       "      <td>6.758619e+06</td>\n",
       "      <td>2.306080</td>\n",
       "      <td>1.140519</td>\n",
       "      <td>335.041882</td>\n",
       "      <td>0.881260</td>\n",
       "    </tr>\n",
       "    <tr>\n",
       "      <th>min</th>\n",
       "      <td>1.000000e+00</td>\n",
       "      <td>1.000000</td>\n",
       "      <td>0.000000</td>\n",
       "      <td>-86.000000</td>\n",
       "      <td>1.000000</td>\n",
       "    </tr>\n",
       "    <tr>\n",
       "      <th>25%</th>\n",
       "      <td>7.000000e+01</td>\n",
       "      <td>2.000000</td>\n",
       "      <td>1.000000</td>\n",
       "      <td>2.000000</td>\n",
       "      <td>2.000000</td>\n",
       "    </tr>\n",
       "    <tr>\n",
       "      <th>50%</th>\n",
       "      <td>1.030000e+02</td>\n",
       "      <td>2.000000</td>\n",
       "      <td>1.000000</td>\n",
       "      <td>9.000000</td>\n",
       "      <td>2.000000</td>\n",
       "    </tr>\n",
       "    <tr>\n",
       "      <th>75%</th>\n",
       "      <td>1.550000e+02</td>\n",
       "      <td>3.000000</td>\n",
       "      <td>1.000000</td>\n",
       "      <td>18.000000</td>\n",
       "      <td>3.000000</td>\n",
       "    </tr>\n",
       "    <tr>\n",
       "      <th>max</th>\n",
       "      <td>1.500000e+09</td>\n",
       "      <td>30.000000</td>\n",
       "      <td>90.000000</td>\n",
       "      <td>1401.000000</td>\n",
       "      <td>6.000000</td>\n",
       "    </tr>\n",
       "  </tbody>\n",
       "</table>\n",
       "</div>"
      ],
      "text/plain": [
       "       real_estate_area   total_rooms  number_of_parking  real_estate_age  \\\n",
       "count      5.014900e+04  45637.000000       50504.000000     46958.000000   \n",
       "mean       3.508912e+04      2.561189           0.948578        95.939989   \n",
       "std        6.758619e+06      2.306080           1.140519       335.041882   \n",
       "min        1.000000e+00      1.000000           0.000000       -86.000000   \n",
       "25%        7.000000e+01      2.000000           1.000000         2.000000   \n",
       "50%        1.030000e+02      2.000000           1.000000         9.000000   \n",
       "75%        1.550000e+02      3.000000           1.000000        18.000000   \n",
       "max        1.500000e+09     30.000000          90.000000      1401.000000   \n",
       "\n",
       "              floor  \n",
       "count  37810.000000  \n",
       "mean       2.146258  \n",
       "std        0.881260  \n",
       "min        1.000000  \n",
       "25%        2.000000  \n",
       "50%        2.000000  \n",
       "75%        3.000000  \n",
       "max        6.000000  "
      ]
     },
     "execution_count": 4,
     "metadata": {},
     "output_type": "execute_result"
    }
   ],
   "source": [
    "mrestate.describe()"
   ]
  },
  {
   "cell_type": "code",
   "execution_count": 5,
   "id": "27d63ada-6749-4dfc-9f10-92c93fa41050",
   "metadata": {},
   "outputs": [
    {
     "name": "stdout",
     "output_type": "stream",
     "text": [
      "<class 'pandas.core.frame.DataFrame'>\n",
      "RangeIndex: 50504 entries, 0 to 50503\n",
      "Data columns (total 9 columns):\n",
      " #   Column             Non-Null Count  Dtype  \n",
      "---  ------             --------------  -----  \n",
      " 0   district_name      50504 non-null  object \n",
      " 1   real_estate_type   50504 non-null  object \n",
      " 2   real_estate_area   50149 non-null  float64\n",
      " 3   total_rooms        45637 non-null  float64\n",
      " 4   number_of_parking  50504 non-null  int64  \n",
      " 5   real_estate_age    46958 non-null  float64\n",
      " 6   price              50504 non-null  object \n",
      " 7   facilities         42934 non-null  object \n",
      " 8   floor              37810 non-null  float64\n",
      "dtypes: float64(4), int64(1), object(4)\n",
      "memory usage: 3.5+ MB\n"
     ]
    }
   ],
   "source": [
    "mrestate.info()"
   ]
  },
  {
   "cell_type": "code",
   "execution_count": 6,
   "id": "52609616-1781-486c-b129-096c21cf4ab8",
   "metadata": {},
   "outputs": [],
   "source": [
    "filtered_data = mrestate[mrestate['price'] == 'توافقی']\n",
    "# filtered_data"
   ]
  },
  {
   "cell_type": "code",
   "execution_count": 7,
   "id": "5798dcaa-75ec-4efe-9471-8394b76cadc5",
   "metadata": {},
   "outputs": [],
   "source": [
    "mrestate.drop(mrestate[mrestate[\"price\"] == 'توافقی'].index, inplace=True)\n",
    "mrestate.reset_index(drop=True, inplace=True)\n",
    "# mrestate.sort_values(['price'])"
   ]
  },
  {
   "cell_type": "code",
   "execution_count": 8,
   "id": "bc93b1c4-f274-4ce4-9123-c731b86deff0",
   "metadata": {},
   "outputs": [],
   "source": [
    "mrestate[\"price\"]=mrestate[\"price\"].astype(float)"
   ]
  },
  {
   "cell_type": "code",
   "execution_count": 9,
   "id": "96d4bd1e-2871-4afb-a4dc-8428b914c330",
   "metadata": {},
   "outputs": [],
   "source": [
    "mrestate['price_per_metre']=mrestate[\"price\"]/mrestate['real_estate_area']"
   ]
  },
  {
   "cell_type": "code",
   "execution_count": 10,
   "id": "9a58e455-7d2d-4de2-9d3a-dd7ea1b2851c",
   "metadata": {},
   "outputs": [],
   "source": [
    "# mrestate"
   ]
  },
  {
   "cell_type": "code",
   "execution_count": 11,
   "id": "ee7da5e1-9698-4490-a10b-d42edd9dd79f",
   "metadata": {},
   "outputs": [],
   "source": [
    "# mrestate.real_estate_type.unique()"
   ]
  },
  {
   "cell_type": "code",
   "execution_count": 12,
   "id": "f69c44bc-d524-4f01-8d6d-bdd7e3196d24",
   "metadata": {},
   "outputs": [],
   "source": [
    "index_estate_type=mrestate[(mrestate['real_estate_type']=='آپارتمان')|(mrestate['real_estate_type']=='برج')].index\n",
    "residental_mre=mrestate.loc[index_estate_type,:].copy()\n",
    "# residental_mre"
   ]
  },
  {
   "cell_type": "code",
   "execution_count": 13,
   "id": "80ee7ebf-2b3b-4cf9-883c-1320ad23bf2c",
   "metadata": {},
   "outputs": [],
   "source": [
    "# residental_mre['facilities'].value_counts()"
   ]
  },
  {
   "cell_type": "code",
   "execution_count": 14,
   "id": "e3722a1b-a962-4e15-aa65-8d0f3ffba825",
   "metadata": {},
   "outputs": [],
   "source": [
    "exploded_mre=residental_mre['facilities'].str.split(',').explode()\n",
    "mre_get_dummy=pd.get_dummies(exploded_mre)\n",
    "mre_result=mre_get_dummy.groupby(mre_get_dummy.index).sum()\n",
    "residental_mre=residental_mre.merge(mre_result,on=residental_mre.index)"
   ]
  },
  {
   "cell_type": "code",
   "execution_count": 15,
   "id": "32ed3e2c-b09c-4cc9-9390-d61c4675abec",
   "metadata": {},
   "outputs": [],
   "source": [
    "residental_mre.drop('key_0',axis=1,inplace=True)"
   ]
  },
  {
   "cell_type": "code",
   "execution_count": 16,
   "id": "4d3c2129-53f1-42d9-beaa-47b00c547227",
   "metadata": {},
   "outputs": [],
   "source": [
    "residental_mre.drop_duplicates(inplace=True,ignore_index=True)"
   ]
  },
  {
   "cell_type": "code",
   "execution_count": 17,
   "id": "19666f24-259a-4677-a341-7574d330bbad",
   "metadata": {},
   "outputs": [],
   "source": [
    "# attributes=['real_estate_area','total_rooms','price','number_of_parking']\n",
    "# sns.scatterplot(residental_mre['price'].value_counts())"
   ]
  },
  {
   "cell_type": "code",
   "execution_count": 18,
   "id": "9aaa55f7-2205-425d-86ce-9ec13b58c9f1",
   "metadata": {},
   "outputs": [],
   "source": [
    "# sns.scatterplot(residental_mre[residental_mre['price']<1000]['price'].value_counts())"
   ]
  },
  {
   "cell_type": "code",
   "execution_count": 19,
   "id": "f440dede-6f71-46fb-ac3b-99f72cdfefcc",
   "metadata": {},
   "outputs": [],
   "source": [
    "residental_mre.drop(residental_mre[residental_mre['price_per_metre']<2e7].index,inplace=True)\n",
    "residental_mre.drop(residental_mre[residental_mre['price_per_metre']>0.6e9].index,inplace=True)"
   ]
  },
  {
   "cell_type": "code",
   "execution_count": 20,
   "id": "7ec68f05-b658-49dd-b58e-3c542f1fbfff",
   "metadata": {},
   "outputs": [],
   "source": [
    "index_age_year=residental_mre['real_estate_age'][residental_mre['real_estate_age']>1300].index\n",
    "index_age_neg=residental_mre['real_estate_age'][residental_mre['real_estate_age']<0].index\n",
    "residental_mre.loc[index_age_year,'real_estate_age']=residental_mre.loc[index_age_year,'real_estate_age'].apply(lambda x:1402-x)\n",
    "residental_mre.loc[index_age_neg,'real_estate_age']=residental_mre.loc[index_age_neg,'real_estate_age'].apply(lambda x:-x)"
   ]
  },
  {
   "cell_type": "code",
   "execution_count": 21,
   "id": "25b7c2ea-ed5d-4547-83a8-e53b0bfc6e09",
   "metadata": {},
   "outputs": [],
   "source": [
    "\n",
    "# residental_mre['number_of_parking'].value_counts()"
   ]
  },
  {
   "cell_type": "code",
   "execution_count": 22,
   "id": "cf1cfcb2-7899-4726-9845-e4d48f81d39d",
   "metadata": {},
   "outputs": [],
   "source": [
    "\n",
    "# sns.scatterplot(residental_mre['real_estate_area'])"
   ]
  },
  {
   "cell_type": "code",
   "execution_count": 23,
   "id": "7024104e-c752-4a58-8933-24a1f2c4bae6",
   "metadata": {},
   "outputs": [],
   "source": [
    "\n",
    "# residental_mre['real_estate_area']<25"
   ]
  },
  {
   "cell_type": "code",
   "execution_count": 24,
   "id": "0085d2e0-02d1-4beb-b3d8-7164fc7ebf7b",
   "metadata": {},
   "outputs": [],
   "source": [
    "residental_mre.drop(residental_mre[residental_mre['real_estate_area']<=20].index,inplace=True)"
   ]
  },
  {
   "cell_type": "code",
   "execution_count": 25,
   "id": "beabfbdc-31be-46d4-bdb9-d290d68cfae1",
   "metadata": {},
   "outputs": [],
   "source": [
    "residental_mre.drop(residental_mre[residental_mre['real_estate_area'].isna()].index,inplace=True)"
   ]
  },
  {
   "cell_type": "code",
   "execution_count": 26,
   "id": "d15e1911-2e1d-4f3d-bdba-2833ab77a219",
   "metadata": {},
   "outputs": [],
   "source": [
    "\n",
    "\n",
    "# residental_mre.info()"
   ]
  },
  {
   "cell_type": "code",
   "execution_count": 27,
   "id": "da5fc199-7029-4a22-8499-7fd29ed279cb",
   "metadata": {},
   "outputs": [],
   "source": [
    "# residental_mre[residental_mre['number_of_parking']>10]"
   ]
  },
  {
   "cell_type": "code",
   "execution_count": 28,
   "id": "a6c69e5c-24a7-419e-9acc-0000ca8d3a58",
   "metadata": {},
   "outputs": [],
   "source": [
    "# residental_mre.columns"
   ]
  },
  {
   "cell_type": "code",
   "execution_count": 29,
   "id": "9a97c313-9b67-4f43-8237-abeafe117f18",
   "metadata": {},
   "outputs": [],
   "source": [
    "# # plt.figure(figsize=(15,15))\n",
    "# from pandas.plotting import scatter_matrix\n",
    "# # ax,fig=plt.subplots(nrows=2,ncols=2)\n",
    "# attributes=['real_estate_area','total_rooms','price','number_of_parking']\n",
    "# scatter_matrix(residental_mre[attributes],figsize=(15,15));\n",
    "# # for i in range(4):\n",
    "\n",
    "    \n",
    "# # sns.scatterplot(x=residental_mre[])"
   ]
  },
  {
   "cell_type": "code",
   "execution_count": 30,
   "id": "fc434b73-b9ad-4d92-a2ad-a8896bffc647",
   "metadata": {},
   "outputs": [],
   "source": [
    "# attributes = [\"real_estate_area\", \"total_rooms\"]\n",
    "# # pd.plotting.scatter_matrix(merged_df[attributes],figsize=(20,10));\n",
    "# plt.figure(figsize=(15,8))\n",
    "# sns.scatterplot(x=residental_mre[attributes[0]],y=residental_mre[attributes[1]]);"
   ]
  },
  {
   "cell_type": "markdown",
   "id": "986701c9",
   "metadata": {},
   "source": [
    "# Tootal room nul handelling and deleting age nul sample"
   ]
  },
  {
   "cell_type": "code",
   "execution_count": 31,
   "id": "68af7d29",
   "metadata": {},
   "outputs": [],
   "source": [
    "def find_mean(start, stop, step):\n",
    "    for i in range(start, stop, step):\n",
    "        condition = (residental_mre[\"real_estate_area\"] >= i) & (residental_mre[\"real_estate_area\"] <= (i + step))\n",
    "        mean = residental_mre.total_rooms[condition].mean()\n",
    "        residental_mre.loc[residental_mre.total_rooms.isna() & condition, \"total_rooms\"] = round(mean)\n"
   ]
  },
  {
   "cell_type": "code",
   "execution_count": 32,
   "id": "3a8bd409",
   "metadata": {},
   "outputs": [],
   "source": [
    "find_mean(0 , 400 , 40)\n",
    "find_mean(400 , int(residental_mre.real_estate_area.max()) , 5000)"
   ]
  },
  {
   "cell_type": "code",
   "execution_count": 33,
   "id": "5926e903",
   "metadata": {},
   "outputs": [],
   "source": [
    "# attributes = [\"real_estate_area\", \"total_rooms\"]\n",
    "# # pd.plotting.scatter_matrix(merged_df[attributes],figsize=(20,10));\n",
    "# plt.figure(figsize=(15,8))\n",
    "# sns.scatterplot(x=residental_mre[attributes[0]],y=residental_mre[attributes[1]]);"
   ]
  },
  {
   "cell_type": "code",
   "execution_count": 34,
   "id": "049eede1",
   "metadata": {},
   "outputs": [],
   "source": [
    "# residental_mre[residental_mre['total_rooms']>10]"
   ]
  },
  {
   "cell_type": "code",
   "execution_count": 35,
   "id": "c60e6896",
   "metadata": {},
   "outputs": [],
   "source": [
    "# delete null age\n",
    "residental_mre.drop(residental_mre[residental_mre['real_estate_age'].isna()].index,inplace=True)"
   ]
  },
  {
   "cell_type": "code",
   "execution_count": 36,
   "id": "58366bdd",
   "metadata": {},
   "outputs": [],
   "source": [
    "# delete null floor\n",
    "residental_mre.drop(residental_mre[residental_mre['floor'].isna()].index,inplace=True)"
   ]
  },
  {
   "cell_type": "code",
   "execution_count": 37,
   "id": "cc3d373a",
   "metadata": {},
   "outputs": [],
   "source": [
    "# residental_mre.info()"
   ]
  },
  {
   "cell_type": "code",
   "execution_count": 38,
   "id": "e5268df1-80d6-40e8-bcce-347fc3c65ef3",
   "metadata": {},
   "outputs": [],
   "source": [
    "# attributes = [\"real_estate_area\", \"total_rooms\"]\n",
    "# # pd.plotting.scatter_matrix(merged_df[attributes],figsize=(20,10));\n",
    "# plt.figure(figsize=(15,8))\n",
    "# sns.scatterplot(x=residental_mre[attributes[0]],y=residental_mre[attributes[1]]);"
   ]
  },
  {
   "cell_type": "code",
   "execution_count": 39,
   "id": "300255bb-8737-43ce-8d94-0f91da3a76f9",
   "metadata": {},
   "outputs": [],
   "source": [
    "# delete area larger than 1000m\n",
    "residental_mre.drop(residental_mre[residental_mre['real_estate_area'] > 1000].index,inplace=True)"
   ]
  },
  {
   "cell_type": "code",
   "execution_count": null,
   "id": "ce7590ea-0b93-4928-9a89-01245a2885e1",
   "metadata": {},
   "outputs": [],
   "source": []
  },
  {
   "cell_type": "code",
   "execution_count": 40,
   "id": "c0494303-eb98-4875-a386-833cb8602e87",
   "metadata": {},
   "outputs": [],
   "source": [
    "# attributes = [\"real_estate_area\", \"total_rooms\"]\n",
    "# # pd.plotting.scatter_matrix(merged_df[attributes],figsize=(20,10));\n",
    "# plt.figure(figsize=(15,8))\n",
    "# sns.scatterplot(x=residental_mre[attributes[0]],y=residental_mre[attributes[1]]);"
   ]
  },
  {
   "cell_type": "code",
   "execution_count": 41,
   "id": "d95511b5",
   "metadata": {},
   "outputs": [],
   "source": [
    "# residental_mre['number_of_parking'].value_counts()"
   ]
  },
  {
   "cell_type": "code",
   "execution_count": 42,
   "id": "887e4309",
   "metadata": {},
   "outputs": [],
   "source": [
    "# residental_mre[residental_mre['number_of_parking']>=10]"
   ]
  },
  {
   "cell_type": "code",
   "execution_count": 43,
   "id": "ccfb6074",
   "metadata": {},
   "outputs": [],
   "source": [
    "# residental_mre.price / 50000"
   ]
  },
  {
   "cell_type": "code",
   "execution_count": 44,
   "id": "1debf2c1-25eb-495f-a19c-c91c1b7d4c94",
   "metadata": {},
   "outputs": [],
   "source": [
    "# attributes = [\"real_estate_area\", \"total_rooms\"]\n",
    "# # pd.plotting.scatter_matrix(merged_df[attributes],figsize=(20,10));\n",
    "# plt.figure(figsize=(15,8))\n",
    "# sns.scatterplot(x=residental_mre[attributes[0]],y=residental_mre[attributes[1]]);"
   ]
  },
  {
   "cell_type": "code",
   "execution_count": 45,
   "id": "18e973eb-8723-40e7-9385-589af0a4668a",
   "metadata": {},
   "outputs": [],
   "source": [
    "residental_mre.drop(residental_mre[(residental_mre['total_rooms']>1)&(residental_mre['real_estate_area']<50)].index,inplace=True)\n",
    "residental_mre.drop(residental_mre[(residental_mre['total_rooms']>2)&(residental_mre['real_estate_area']<80)&(residental_mre['real_estate_area']>=50)].index,inplace=True)\n",
    "residental_mre.drop(residental_mre[(residental_mre['total_rooms']>3)&(residental_mre['real_estate_area']<120)&(residental_mre['real_estate_area']>=80)].index,inplace=True)\n",
    "residental_mre.drop(residental_mre[(residental_mre['total_rooms']>5)&(residental_mre['real_estate_area']<200)&(residental_mre['real_estate_area']>=120)].index,inplace=True)"
   ]
  },
  {
   "cell_type": "code",
   "execution_count": 46,
   "id": "22b81e35",
   "metadata": {},
   "outputs": [
    {
     "data": {
      "text/plain": [
       "total_rooms\n",
       "2.0    14873\n",
       "3.0     7681\n",
       "1.0     7511\n",
       "4.0      775\n",
       "5.0       23\n",
       "6.0        9\n",
       "Name: count, dtype: int64"
      ]
     },
     "execution_count": 46,
     "metadata": {},
     "output_type": "execute_result"
    }
   ],
   "source": [
    "residental_mre[\"total_rooms\"].value_counts()"
   ]
  },
  {
   "cell_type": "code",
   "execution_count": 47,
   "id": "f2856ab9-b9db-43b9-9d2e-3b8e71988234",
   "metadata": {},
   "outputs": [],
   "source": [
    "def check_parking(x):\n",
    "    if x>0:\n",
    "        return 1\n",
    "    else:\n",
    "        return 0"
   ]
  },
  {
   "cell_type": "code",
   "execution_count": 48,
   "id": "d8a685b0-10f1-4a84-802e-67caec881515",
   "metadata": {},
   "outputs": [],
   "source": [
    "residental_mre[\"parking\"] = residental_mre.number_of_parking.apply(check_parking)"
   ]
  },
  {
   "cell_type": "code",
   "execution_count": 49,
   "id": "a2f2fb1c",
   "metadata": {},
   "outputs": [
    {
     "data": {
      "text/plain": [
       "Index(['district_name', 'real_estate_type', 'real_estate_area', 'total_rooms',\n",
       "       'number_of_parking', 'real_estate_age', 'price', 'facilities', 'floor',\n",
       "       'price_per_metre', 'آبنما', 'آسانسور', 'آلاچیق', 'اتاق مستر', 'استخر',\n",
       "       'اطفا حریق', 'اعلام حریق', 'انباری', 'باشگاه', 'بالکن',\n",
       "       'جاروبرقی مرکزی', 'جکوزی', 'روف گاردن', 'سالن اجتماعات', 'سرایداری',\n",
       "       'سونا', 'لابی', 'لابی من', 'نورپردازی', 'نگهبانی', 'پارکینگ مهمان',\n",
       "       'پاسیو', 'parking'],\n",
       "      dtype='object')"
      ]
     },
     "execution_count": 49,
     "metadata": {},
     "output_type": "execute_result"
    }
   ],
   "source": [
    "residental_mre.columns"
   ]
  },
  {
   "cell_type": "code",
   "execution_count": 50,
   "id": "7ea39dc4-c429-40aa-8c55-61d3b8d90662",
   "metadata": {},
   "outputs": [],
   "source": [
    "residental_mre.rename(columns={\"استخر\": \"pool\",\n",
    "                  \"اتاق مستر\" : \"master_room\",\n",
    "                  \"آسانسور\": \"elevator\",\n",
    "                  \"بالکن\": \"balcony\",\n",
    "                  \"باشگاه\": \"gym\",\n",
    "                  \"انباری\": \"warehouse\",\n",
    "                  \"سرایداری\": \"janitor\",\n",
    "                  \"سالن اجتماعات\": \"conference_hall\",\n",
    "                  \"روف گاردن\": \"roof_garden\",\n",
    "                  \"جکوزی\": \"jacuzzi\",\n",
    "                  \"جاروبرقی مرکزی\": \"centeral_Vacuume_cleaner\",\n",
    "                  \"نگهبانی\": \"Guard\",\n",
    "                  \"لابی\": \"lobby\",\n",
    "                  \"لابی من\": \"lobby_man\",\n",
    "                  \"سونا\": \"sauna\",\n",
    "                  \"price_per_metre\": \"price_per_meter\"},\n",
    "                inplace=True)"
   ]
  },
  {
   "cell_type": "code",
   "execution_count": 51,
   "id": "9610888a-ee54-4d22-915a-6bb785cfef6e",
   "metadata": {},
   "outputs": [
    {
     "data": {
      "text/plain": [
       "Index(['district_name', 'real_estate_type', 'real_estate_area', 'total_rooms',\n",
       "       'number_of_parking', 'real_estate_age', 'price', 'facilities', 'floor',\n",
       "       'price_per_meter', 'آبنما', 'elevator', 'آلاچیق', 'master_room', 'pool',\n",
       "       'اطفا حریق', 'اعلام حریق', 'warehouse', 'gym', 'balcony',\n",
       "       'centeral_Vacuume_cleaner', 'jacuzzi', 'roof_garden', 'conference_hall',\n",
       "       'janitor', 'sauna', 'lobby', 'lobby_man', 'نورپردازی', 'Guard',\n",
       "       'پارکینگ مهمان', 'پاسیو', 'parking'],\n",
       "      dtype='object')"
      ]
     },
     "execution_count": 51,
     "metadata": {},
     "output_type": "execute_result"
    }
   ],
   "source": [
    "residental_mre.columns"
   ]
  },
  {
   "cell_type": "code",
   "execution_count": 52,
   "id": "e5c10852-acc4-46c7-899b-b190fd7caf65",
   "metadata": {},
   "outputs": [],
   "source": [
    "residental_mre.drop(columns=[\"آبنما\", \"آلاچیق\", \"اعلام حریق\", \"اطفا حریق\", \"نورپردازی\", \"پاسیو\", \"پارکینگ مهمان\", \"number_of_parking\"], inplace=True)"
   ]
  },
  {
   "cell_type": "code",
   "execution_count": 53,
   "id": "d2360eb3-f7ae-4c2d-bf08-13c656d698eb",
   "metadata": {},
   "outputs": [
    {
     "data": {
      "text/plain": [
       "Index(['district_name', 'real_estate_type', 'real_estate_area', 'total_rooms',\n",
       "       'real_estate_age', 'price', 'facilities', 'floor', 'price_per_meter',\n",
       "       'elevator', 'master_room', 'pool', 'warehouse', 'gym', 'balcony',\n",
       "       'centeral_Vacuume_cleaner', 'jacuzzi', 'roof_garden', 'conference_hall',\n",
       "       'janitor', 'sauna', 'lobby', 'lobby_man', 'Guard', 'parking'],\n",
       "      dtype='object')"
      ]
     },
     "execution_count": 53,
     "metadata": {},
     "output_type": "execute_result"
    }
   ],
   "source": [
    "residental_mre.columns"
   ]
  },
  {
   "cell_type": "code",
   "execution_count": null,
   "id": "7367316c-f73e-4e3f-8b1d-64d4d6478580",
   "metadata": {},
   "outputs": [],
   "source": []
  }
 ],
 "metadata": {
  "kernelspec": {
   "display_name": "Python 3 (ipykernel)",
   "language": "python",
   "name": "python3"
  },
  "language_info": {
   "codemirror_mode": {
    "name": "ipython",
    "version": 3
   },
   "file_extension": ".py",
   "mimetype": "text/x-python",
   "name": "python",
   "nbconvert_exporter": "python",
   "pygments_lexer": "ipython3",
   "version": "3.11.4"
  }
 },
 "nbformat": 4,
 "nbformat_minor": 5
}
